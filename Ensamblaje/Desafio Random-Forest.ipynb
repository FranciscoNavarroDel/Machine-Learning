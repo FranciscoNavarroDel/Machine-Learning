{
 "cells": [
  {
   "cell_type": "markdown",
   "metadata": {},
   "source": [
    "# Descripción\n",
    "* Para esta sesión trabajaremos con una base de datos sobre los precios de inmuebles en la ciudad de Ames, Iowa. La base se compone de 2930 registros y contiene un gran número de atributos.\n",
    "\n",
    "* Nuestro objetivo es generar un modelo que prediga de forma adecuada los precios de inmuebles, medidos con la variable Sale_Price.\n",
    "\n",
    "* A diferencia de otras sesiones donde implementábamos el preprocesamiento a mano, ahora haremos uso de los archivos serializados en la sesión pasada."
   ]
  },
  {
   "cell_type": "markdown",
   "metadata": {},
   "source": [
    "# Ejercicio 1: Preparación del ambiente de trabajo\n",
    "\n",
    "* Importe las librerías clásicas a utilizar.\n",
    "\n",
    "* Para este ejercicio Random Forest de Regresión De manera adicional importe las funciones y clases necesarias para generar un desempeño de métricas en problemas de regresión.\n",
    "\n",
    "* Elimine la columna 'Unnamed: 0' cuando cargue los datos.\n"
   ]
  },
  {
   "cell_type": "code",
   "execution_count": 1,
   "metadata": {},
   "outputs": [],
   "source": [
    "import pandas as pd\n",
    "import numpy as np\n",
    "import seaborn as sns\n",
    "import matplotlib.pyplot as plt\n",
    "import pickle\n",
    "\n",
    "from sklearn.model_selection import train_test_split\n",
    "from sklearn.tree import DecisionTreeRegressor\n",
    "from sklearn.ensemble import RandomForestRegressor\n",
    "from sklearn.metrics import mean_squared_error, median_absolute_error, r2_score\n",
    "\n"
   ]
  },
  {
   "cell_type": "code",
   "execution_count": 2,
   "metadata": {},
   "outputs": [],
   "source": [
    "df= pd.read_csv('ames_housing.csv').drop(columns='Unnamed: 0')"
   ]
  },
  {
   "cell_type": "code",
   "execution_count": 3,
   "metadata": {},
   "outputs": [
    {
     "data": {
      "text/html": [
       "<div>\n",
       "<style scoped>\n",
       "    .dataframe tbody tr th:only-of-type {\n",
       "        vertical-align: middle;\n",
       "    }\n",
       "\n",
       "    .dataframe tbody tr th {\n",
       "        vertical-align: top;\n",
       "    }\n",
       "\n",
       "    .dataframe thead th {\n",
       "        text-align: right;\n",
       "    }\n",
       "</style>\n",
       "<table border=\"1\" class=\"dataframe\">\n",
       "  <thead>\n",
       "    <tr style=\"text-align: right;\">\n",
       "      <th></th>\n",
       "      <th>MS_SubClass</th>\n",
       "      <th>MS_Zoning</th>\n",
       "      <th>Lot_Frontage</th>\n",
       "      <th>Lot_Area</th>\n",
       "      <th>Street</th>\n",
       "      <th>Alley</th>\n",
       "      <th>Lot_Shape</th>\n",
       "      <th>Land_Contour</th>\n",
       "      <th>Utilities</th>\n",
       "      <th>Lot_Config</th>\n",
       "      <th>...</th>\n",
       "      <th>Fence</th>\n",
       "      <th>Misc_Feature</th>\n",
       "      <th>Misc_Val</th>\n",
       "      <th>Mo_Sold</th>\n",
       "      <th>Year_Sold</th>\n",
       "      <th>Sale_Type</th>\n",
       "      <th>Sale_Condition</th>\n",
       "      <th>Sale_Price</th>\n",
       "      <th>Longitude</th>\n",
       "      <th>Latitude</th>\n",
       "    </tr>\n",
       "  </thead>\n",
       "  <tbody>\n",
       "    <tr>\n",
       "      <th>719</th>\n",
       "      <td>Two_Story_1945_and_Older</td>\n",
       "      <td>Residential_Medium_Density</td>\n",
       "      <td>121</td>\n",
       "      <td>17671</td>\n",
       "      <td>Pave</td>\n",
       "      <td>Gravel</td>\n",
       "      <td>Regular</td>\n",
       "      <td>Lvl</td>\n",
       "      <td>AllPub</td>\n",
       "      <td>Corner</td>\n",
       "      <td>...</td>\n",
       "      <td>No_Fence</td>\n",
       "      <td>None</td>\n",
       "      <td>0</td>\n",
       "      <td>11</td>\n",
       "      <td>2009</td>\n",
       "      <td>WD</td>\n",
       "      <td>Normal</td>\n",
       "      <td>168000</td>\n",
       "      <td>-93.610582</td>\n",
       "      <td>42.028104</td>\n",
       "    </tr>\n",
       "  </tbody>\n",
       "</table>\n",
       "<p>1 rows × 81 columns</p>\n",
       "</div>"
      ],
      "text/plain": [
       "                  MS_SubClass                   MS_Zoning  Lot_Frontage  \\\n",
       "719  Two_Story_1945_and_Older  Residential_Medium_Density           121   \n",
       "\n",
       "     Lot_Area Street   Alley Lot_Shape Land_Contour Utilities Lot_Config  ...  \\\n",
       "719     17671   Pave  Gravel   Regular          Lvl    AllPub     Corner  ...   \n",
       "\n",
       "        Fence Misc_Feature Misc_Val Mo_Sold Year_Sold Sale_Type  \\\n",
       "719  No_Fence         None        0      11      2009       WD    \n",
       "\n",
       "    Sale_Condition Sale_Price  Longitude   Latitude  \n",
       "719         Normal     168000 -93.610582  42.028104  \n",
       "\n",
       "[1 rows x 81 columns]"
      ]
     },
     "execution_count": 3,
     "metadata": {},
     "output_type": "execute_result"
    }
   ],
   "source": [
    "df.sample()"
   ]
  },
  {
   "cell_type": "markdown",
   "metadata": {},
   "source": [
    "# Ejercicio 2: Importación de archivos serializados\n",
    "\n",
    "* Importe su modelo entrenado y sus conjuntos de entrenamiento y validación serializados la sesión pasada y evalúe el desempeño del modelo de su compañero con el suyo ¿Cuál es mejor? Si no puede ejecutar el modelo, comente cuáles pueden ser los causantes.\n",
    "\n",
    "* No es necesario que realice diagnósticos gráficos sobre el modelo, sólo reporte sus métricas.\n"
   ]
  },
  {
   "cell_type": "code",
   "execution_count": 8,
   "metadata": {},
   "outputs": [],
   "source": [
    "pickle_in = open(\"Laura-Fierro-actividad07.sav\",\"rb\")"
   ]
  },
  {
   "cell_type": "code",
   "execution_count": 9,
   "metadata": {},
   "outputs": [],
   "source": [
    "best_model_reg_tree = pickle.load(pickle_in)\n",
    "X_train=pickle.load(pickle_in)\n",
    "y_train=pickle.load(pickle_in)\n",
    "X_test=pickle.load(pickle_in)\n",
    "y_test=pickle.load(pickle_in)"
   ]
  },
  {
   "cell_type": "code",
   "execution_count": 14,
   "metadata": {},
   "outputs": [
    {
     "name": "stdout",
     "output_type": "stream",
     "text": [
      "MSE: 1493544414.3190699\n",
      "MAE: 15407.83783783784\n",
      "R2: 0.7789915901496415\n"
     ]
    }
   ],
   "source": [
    "print(\"MSE:\", mean_squared_error(y_test, best_model_reg_tree.predict(X_test)))\n",
    "print(\"MAE:\", median_absolute_error(y_test, best_model_reg_tree.predict(X_test)))\n",
    "print(\"R2:\", r2_score(y_test, best_model_reg_tree.predict(X_test)))"
   ]
  },
  {
   "cell_type": "markdown",
   "metadata": {},
   "source": [
    "# Ejercicio 3: Evaluación Random Forest\n",
    "\n",
    "\n",
    "* En base a los conjuntos de entrenamiento serializados, genere un modelo utilizando sklearn.ensemble.RandomForest sin modificar hiperparámetros, sólo declarando la semilla pseudoaleatoria.\n",
    "\n",
    "* Reporte su desempeño y compárelo con su modelo de la sesión pasada, así como con el de su compañero."
   ]
  },
  {
   "cell_type": "code",
   "execution_count": 12,
   "metadata": {},
   "outputs": [
    {
     "data": {
      "text/plain": [
       "RandomForestRegressor(random_state=112325)"
      ]
     },
     "execution_count": 12,
     "metadata": {},
     "output_type": "execute_result"
    }
   ],
   "source": [
    "Random_forest=RandomForestRegressor(random_state=112325)\n",
    "Random_forest.fit(X_train,y_train)"
   ]
  },
  {
   "cell_type": "code",
   "execution_count": 13,
   "metadata": {},
   "outputs": [
    {
     "name": "stdout",
     "output_type": "stream",
     "text": [
      "MSE: 954453345.7566264\n",
      "MAE: 12162.333333333314\n",
      "R2: 0.8587640151845111\n"
     ]
    }
   ],
   "source": [
    "print(\"MSE:\", mean_squared_error(y_test, Random_forest.predict(X_test)))\n",
    "print(\"MAE:\", median_absolute_error(y_test, Random_forest.predict(X_test)))\n",
    "print(\"R2:\", r2_score(y_test, Random_forest.predict(X_test)))"
   ]
  },
  {
   "cell_type": "markdown",
   "metadata": {},
   "source": [
    "Sólo usando Random Forest, se obtuvo una mejora importante. El MSE bajó un casi un  37%  y el MAE disminuyó un  22% , de modo que el nuevo modelo genera predicciones más cercanas al resultado buscado. Por otro laro, el  𝑅2  subió en  0.08 , teniendo el nuevo modelo una mejor capacidad de explicar el fenómeno en estudio."
   ]
  },
  {
   "cell_type": "markdown",
   "metadata": {},
   "source": [
    "# Ejercicio 4: Reporte las métricas de desempeño\n",
    "\n",
    "* Para afinar el comportamiento de nuestro modelo, evalúe su desempeño los siguientes hiperparámetros:\n",
    "\n",
    "  * max_features : None , log2 , sqrt .\n",
    "  * n_estimators : Evaluar entre 20 y 1000 en pasos de 50.\n",
    "\n",
    "* Guarde la tasa de error en la exactitud medida con OOB.\n",
    "* Grafique el comportamiento.\n"
   ]
  },
  {
   "cell_type": "code",
   "execution_count": 35,
   "metadata": {},
   "outputs": [],
   "source": [
    "n_estimators=range(20,1000,50)\n",
    "tmp_oob_None, tmp_oob_log2, tmp_oob_sqrt = [], [], []"
   ]
  },
  {
   "cell_type": "code",
   "execution_count": 36,
   "metadata": {},
   "outputs": [],
   "source": [
    "for i in n_estimators:\n",
    "    tmp_rf_None=RandomForestRegressor(n_estimators=i,max_features=None,\n",
    "                                      oob_score=True,random_state=112325).fit(X_train,y_train)\n",
    "    \n",
    "    tmp_rf_log2=RandomForestRegressor(n_estimators=i,max_features='log2',\n",
    "                                       oob_score=True,random_state=112325).fit(X_train,y_train)\n",
    "    \n",
    "    tmp_rf_sqrt=RandomForestRegressor(n_estimators=i,max_features='sqrt',\n",
    "                                      oob_score=True,random_state=112325).fit(X_train,y_train)\n",
    "    \n",
    "    tmp_oob_None.append(1-tmp_rf_None.oob_score_)\n",
    "    tmp_oob_log2.append(1-tmp_rf_log2.oob_score_)\n",
    "    tmp_oob_sqrt.append(1-tmp_rf_sqrt.oob_score_)"
   ]
  },
  {
   "cell_type": "code",
   "execution_count": 43,
   "metadata": {},
   "outputs": [
    {
     "data": {
      "image/png": "[encoded data removed]",
      "text/plain": [
       "<Figure size 1080x720 with 1 Axes>"
      ]
     },
     "metadata": {
      "needs_background": "light"
     },
     "output_type": "display_data"
    }
   ],
   "source": [
    "plt.figure(figsize=(15,10))\n",
    "plt.plot(n_estimators,tmp_oob_None, color='b',label='None')\n",
    "plt.plot(n_estimators,tmp_oob_log2, color='g',label='log2')\n",
    "plt.plot(n_estimators,tmp_oob_sqrt, color='r',label='sqrt')\n",
    "plt.xlabel('Nro estimadores')\n",
    "plt.xticks(n_estimators)\n",
    "plt.tight_layout()\n",
    "plt.legend();"
   ]
  },
  {
   "cell_type": "markdown",
   "metadata": {},
   "source": [
    "# Ejercicio 5: Refactorice el modelo\n",
    "- En base a la mejor combinación de hiperparámetros, reentrene el modelo y comente su desempeño."
   ]
  },
  {
   "cell_type": "code",
   "execution_count": null,
   "metadata": {},
   "outputs": [],
   "source": []
  }
 ],
 "metadata": {
  "kernelspec": {
   "display_name": "Python 3",
   "language": "python",
   "name": "python3"
  },
  "language_info": {
   "codemirror_mode": {
    "name": "ipython",
    "version": 3
   },
   "file_extension": ".py",
   "mimetype": "text/x-python",
   "name": "python",
   "nbconvert_exporter": "python",
   "pygments_lexer": "ipython3",
   "version": "3.7.6"
  }
 },
 "nbformat": 4,
 "nbformat_minor": 4
}
